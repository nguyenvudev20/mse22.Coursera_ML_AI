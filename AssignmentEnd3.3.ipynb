{
  "nbformat": 4,
  "nbformat_minor": 0,
  "metadata": {
    "colab": {
      "provenance": [],
      "include_colab_link": true
    },
    "kernelspec": {
      "name": "python3",
      "display_name": "Python 3"
    },
    "language_info": {
      "name": "python"
    }
  },
  "cells": [
    {
      "cell_type": "markdown",
      "metadata": {
        "id": "view-in-github",
        "colab_type": "text"
      },
      "source": [
        "<a href=\"https://colab.research.google.com/github/nguyenvudev20/mse22.Coursera_ML_AI/blob/main/AssignmentEnd3.3.ipynb\" target=\"_parent\"><img src=\"https://colab.research.google.com/assets/colab-badge.svg\" alt=\"Open In Colab\"/></a>"
      ]
    },
    {
      "cell_type": "markdown",
      "source": [
        "# Housing Prices Competition for Kaggle Learn Users\n",
        "\n",
        "Housing Prices Competition for Kaggle Learn Users là một bộ dữ liệu được cung cấp bởi Kaggle, một nền tảng nổi tiếng về các cuộc thi về khoa học dữ liệu và máy học. Bộ dữ liệu này bao gồm thông tin về giá nhà ở Ames, Iowa, Hoa Kỳ.\n",
        "\n",
        "Bộ dữ liệu này bao gồm hai tập dữ liệu, một tập dữ liệu huấn luyện và một tập dữ liệu kiểm tra. Tập dữ liệu huấn luyện bao gồm 1460 mẫu và 80 biến đầu vào, bao gồm các thông tin về kích thước, vị trí, tiện nghi và trạng thái của ngôi nhà. Biến đầu ra là giá trị của ngôi nhà. Tập dữ liệu kiểm tra bao gồm 1459 mẫu và cũng bao gồm các biến đầu vào nhưng không có biến đầu ra.\n",
        "\n",
        "Bộ dữ liệu này được sử dụng để đào tạo các mô hình dự đoán giá nhà dựa trên các đặc trưng của ngôi nhà. Nhiệm vụ của các thí sinh là tìm ra một mô hình tốt nhất để dự đoán giá trị của các ngôi nhà trong tập dữ liệu kiểm tra. Bộ dữ liệu này là một trong những bộ dữ liệu phổ biến và được sử dụng nhiều trong lĩnh vực dự đoán giá nhà và phân tích dữ liệu.\n",
        "\n",
        "\n",
        "## Table of Contents\n",
        "- [1 - Cài đặt dữ liệu từ Kaggle](#1)\n",
        "- [2 - Lựa chọn và chuẩn hóa dữ liệu cần cho việc training](#2)\n",
        "- [3 - Thực hiện trainning dựa trên model của Tensorflow Keras](#3)\n",
        "- [4 - Sử dụng Hyperparameter Tuning để cải tiến model](#4)\n",
        "- [5 - Cải tiến Hyperparameter Tuning](#5)\n",
        "- [6 - Cải tiến bằng cách dùng Hyperband](#6)"
      ],
      "metadata": {
        "id": "cS-XnvWPUnQl"
      }
    },
    {
      "cell_type": "markdown",
      "source": [
        "<a name='1'></a>\n",
        "## 1 - Cài đặt dữ liệu từ Kaggle"
      ],
      "metadata": {
        "id": "AjuUBFBkfTvL"
      }
    },
    {
      "cell_type": "code",
      "execution_count": 1,
      "metadata": {
        "id": "TBKti-6DfvK4",
        "colab": {
          "base_uri": "https://localhost:8080/"
        },
        "outputId": "1a7ff2ed-168e-43e2-81e3-17f1a45c907e"
      },
      "outputs": [
        {
          "output_type": "stream",
          "name": "stdout",
          "text": [
            "Looking in indexes: https://pypi.org/simple, https://us-python.pkg.dev/colab-wheels/public/simple/\n",
            "Requirement already satisfied: scikit-learn in /usr/local/lib/python3.8/dist-packages (1.2.1)\n",
            "Requirement already satisfied: numpy>=1.17.3 in /usr/local/lib/python3.8/dist-packages (from scikit-learn) (1.22.4)\n",
            "Requirement already satisfied: scipy>=1.3.2 in /usr/local/lib/python3.8/dist-packages (from scikit-learn) (1.10.1)\n",
            "Requirement already satisfied: threadpoolctl>=2.0.0 in /usr/local/lib/python3.8/dist-packages (from scikit-learn) (3.1.0)\n",
            "Requirement already satisfied: joblib>=1.1.1 in /usr/local/lib/python3.8/dist-packages (from scikit-learn) (1.2.0)\n"
          ]
        }
      ],
      "source": [
        "!pip install --upgrade scikit-learn"
      ]
    },
    {
      "cell_type": "code",
      "source": [
        "import os\n",
        "import pandas as pd\n",
        "import numpy as np\n",
        "# tạo các tham số môi trường cho api kaggle để kết nối tải file \n",
        "os.environ['KAGGLE_USERNAME'] = \"vunguyen2020\"\n",
        "os.environ['KAGGLE_KEY'] = \"ceaa092a89951b4d01485d4ee50cf382\""
      ],
      "metadata": {
        "id": "kSC-FxHT35C1"
      },
      "execution_count": 2,
      "outputs": []
    },
    {
      "cell_type": "code",
      "source": [
        "!kaggle competitions download -c home-data-for-ml-course #tải gói data cho bài tutorial từ kaggle dưới dạng zip file\n",
        "!mkdir kaggle #tạo folder để unzip file vừa tải\n",
        "!unzip /content/home-data-for-ml-course.zip -d kaggle #tiến hành unzip vào folder kaggle"
      ],
      "metadata": {
        "colab": {
          "base_uri": "https://localhost:8080/"
        },
        "id": "xZFm43zGW22w",
        "outputId": "f351956b-6582-476d-82b4-022f36da7f9f"
      },
      "execution_count": 3,
      "outputs": [
        {
          "output_type": "stream",
          "name": "stdout",
          "text": [
            "home-data-for-ml-course.zip: Skipping, found more recently modified local copy (use --force to force download)\n",
            "mkdir: cannot create directory ‘kaggle’: File exists\n",
            "Archive:  /content/home-data-for-ml-course.zip\n",
            "replace kaggle/data_description.txt? [y]es, [n]o, [A]ll, [N]one, [r]ename: "
          ]
        }
      ]
    },
    {
      "cell_type": "markdown",
      "source": [
        "<a name='2'></a>\n",
        "## 2 - Lựa chọn và chuẩn hóa dữ liệu cần cho việc training"
      ],
      "metadata": {
        "id": "Dz5ieCJIfY3N"
      }
    },
    {
      "cell_type": "code",
      "source": [
        "# Đọc dữ liệu từ file train.csv\n",
        "train_data = pd.read_csv(\"kaggle/train.csv\")\n",
        "# Hiển thị 5 dòng đầu tiên của dữ liệu\n",
        "train_data.head()"
      ],
      "metadata": {
        "id": "zrDTyy-YXJck"
      },
      "execution_count": null,
      "outputs": []
    },
    {
      "cell_type": "code",
      "source": [
        "# xem thucộ tính của các trường dữ liệu\n",
        "train_data.info()"
      ],
      "metadata": {
        "id": "GKU-844lXM88"
      },
      "execution_count": null,
      "outputs": []
    },
    {
      "cell_type": "code",
      "source": [
        "# dữ liệu có 1460 dòng và 81 trường dữ liệu\n",
        "train_data.shape"
      ],
      "metadata": {
        "id": "CptUpvS4XOc3"
      },
      "execution_count": null,
      "outputs": []
    },
    {
      "cell_type": "code",
      "source": [
        "# lựa chọn các trường dữ liệu\n",
        "train_data.columns"
      ],
      "metadata": {
        "id": "SjzVBaxtXVZL"
      },
      "execution_count": null,
      "outputs": []
    },
    {
      "cell_type": "code",
      "source": [
        "features = ['MSSubClass', 'LotArea', 'OverallQual', 'OverallCond', 'YearBuilt', 'YearRemodAdd',\n",
        "    '1stFlrSF', '2ndFlrSF', 'LowQualFinSF', 'GrLivArea', 'FullBath', 'HalfBath', 'BedroomAbvGr',\n",
        "    'KitchenAbvGr', 'TotRmsAbvGrd', 'WoodDeckSF', 'OpenPorchSF', 'EnclosedPorch',\n",
        "    '3SsnPorch', 'ScreenPorch', 'PoolArea', 'MiscVal', 'MoSold', 'YrSold']\n",
        "X= train_data[features]\n",
        "y=train_data['SalePrice']"
      ],
      "metadata": {
        "id": "ApfVE19_Xtx0"
      },
      "execution_count": null,
      "outputs": []
    },
    {
      "cell_type": "code",
      "source": [
        "X.head()"
      ],
      "metadata": {
        "id": "Yd4IgXiFX2uc"
      },
      "execution_count": null,
      "outputs": []
    },
    {
      "cell_type": "code",
      "source": [
        "y.head()"
      ],
      "metadata": {
        "id": "cNaPhrypX4l0"
      },
      "execution_count": null,
      "outputs": []
    },
    {
      "cell_type": "code",
      "source": [
        "# kiểm tra dữ liệu rỗng\n",
        "X.isnull().sum().sort_values(ascending = False)"
      ],
      "metadata": {
        "id": "h-EYCv4_fm23"
      },
      "execution_count": null,
      "outputs": []
    },
    {
      "cell_type": "markdown",
      "source": [
        "<a name='3'></a>\n",
        "## 3 - Thực hiện trainning dựa trên model của Tensorflow Keras"
      ],
      "metadata": {
        "id": "EN8vJ-BEd4m3"
      }
    },
    {
      "cell_type": "code",
      "source": [
        "from sklearn.model_selection import train_test_split\n",
        "from sklearn.preprocessing import StandardScaler\n",
        "\n",
        "# Chia dữ liệu thành tập huấn luyện và tập kiểm tra với tỷ lệ 8:2\n",
        "X_train, X_test, y_train, y_test = train_test_split(X, y, test_size=0.2, random_state=42)\n",
        "\n",
        "# Chuẩn hóa dữ liệu đầu vào\n",
        "scaler = StandardScaler()\n",
        "X_train = scaler.fit_transform(X_train)\n",
        "X_test = scaler.transform(X_test)"
      ],
      "metadata": {
        "id": "7YOoWsvGYgjd"
      },
      "execution_count": null,
      "outputs": []
    },
    {
      "cell_type": "code",
      "source": [
        "from tensorflow.keras.models import Sequential\n",
        "from tensorflow.keras.layers import Dense\n",
        "from tensorflow.keras.metrics import MeanSquaredError, RootMeanSquaredError, MeanAbsoluteError\n",
        "import tensorflow.keras.backend as K\n",
        "\n",
        "# tạo hàm r_squared để đánh giá model\n",
        "def r_squared(y_true, y_pred):\n",
        "    SS_res =  K.sum(K.square(y_true - y_pred)) \n",
        "    SS_tot = K.sum(K.square(y_true - K.mean(y_true))) \n",
        "    return ( 1 - SS_res/(SS_tot + K.epsilon()) )\n",
        "\n",
        "# Khỏi tạo model\n",
        "model = Sequential([\n",
        "    Dense(64, activation='relu', input_shape=(X_train.shape[1],)),\n",
        "    Dense(32, activation='relu'),\n",
        "    Dense(1, activation='linear')\n",
        "])\n",
        "model.compile(optimizer='adam', loss='mean_squared_error', metrics=[MeanSquaredError(), RootMeanSquaredError(), MeanAbsoluteError(), r_squared])\n",
        "\n",
        "# Huấn luyện model trên tập huấn luyện\n",
        "model.fit(X_train, y_train, epochs=50, batch_size=32, validation_data=(X_test, y_test))\n",
        "\n"
      ],
      "metadata": {
        "id": "ZN5KKyqpYpto"
      },
      "execution_count": null,
      "outputs": []
    },
    {
      "cell_type": "code",
      "source": [
        "# chạy thử mô hình với tập kiểm tra\n",
        "model.evaluate(X_test, y_test)\n",
        "\n",
        "# Đánh giá hiệu suất mô hình trên tập kiểm tra\n",
        "print(\"Mean Squared Error:\", best_model.metrics[1].result().numpy())\n",
        "print(\"Root Mean Squared Error:\", best_model.metrics[2].result().numpy())\n",
        "print(\"Mean Absolute Error:\", best_model.metrics[3].result().numpy())\n",
        "print(\"R-squared:\", best_model.metrics[4].result().numpy())"
      ],
      "metadata": {
        "id": "VrC1zW8vY-21"
      },
      "execution_count": null,
      "outputs": []
    },
    {
      "cell_type": "markdown",
      "source": [
        "### Kết luận\n",
        "\n",
        "sau khi thực hiện train model và ta được kết quả:\n",
        "- Mean Squared Error: 8465224000.0\n",
        "- Root Mean Squared Error: 8465224000.0\n",
        "- Mean Absolute Error: 92006.66\n",
        "- R-squared: 79019.4\n"
      ],
      "metadata": {
        "id": "vTrHyQMFdEZ_"
      }
    },
    {
      "cell_type": "markdown",
      "source": [
        "<a name='4'></a>\n",
        "## 4 - Sử dụng Hyperparameter Tuning để cải tiến model"
      ],
      "metadata": {
        "id": "1h_BnZRFeO6m"
      }
    },
    {
      "cell_type": "code",
      "source": [
        "!pip install keras-tuner"
      ],
      "metadata": {
        "id": "lxU5vcNSfHaP"
      },
      "execution_count": null,
      "outputs": []
    },
    {
      "cell_type": "code",
      "source": [
        "from kerastuner.tuners import RandomSearch\n",
        "# Define build_model function\n",
        "def build_model(hp):\n",
        "    model = tf.keras.Sequential()\n",
        "    model.add(tf.keras.layers.Dense(units=hp.Int('units',\n",
        "                                        min_value=32,\n",
        "                                        max_value=512,\n",
        "                                        step=32),\n",
        "                           activation='relu'))\n",
        "    model.add(tf.keras.layers.Dense(1))\n",
        "    model.compile(optimizer=tf.keras.optimizers.Adam(hp.Choice('learning_rate',\n",
        "                                                             values=[1e-2, 1e-3, 1e-4])),\n",
        "                  loss='mse',\n",
        "                  metrics=[MeanSquaredError(), RootMeanSquaredError(), MeanAbsoluteError(), r_squared])\n",
        "    return model\n",
        "\n",
        "# Define tuner\n",
        "tuner = RandomSearch(\n",
        "    build_model,\n",
        "    objective='val_loss',\n",
        "    max_trials=5,\n",
        "    executions_per_trial=3,\n",
        "    directory='kaggle',\n",
        "    project_name='hoc_ml_mse11')\n",
        "\n",
        "# Fit tuner to data\n",
        "tuner.search(X_train, y_train,\n",
        "             epochs=10,\n",
        "             validation_data=(X_test, y_test))\n",
        "\n",
        "# Print best hyperparameters\n",
        "print(tuner.get_best_hyperparameters()[0].values)"
      ],
      "metadata": {
        "id": "3vzFb_ORf-PH"
      },
      "execution_count": null,
      "outputs": []
    },
    {
      "cell_type": "code",
      "source": [
        "# lấy model tốt nhất\n",
        "best_model = tuner.get_best_models(num_models=1)[0]\n",
        "\n",
        "# chạy với tập train\n",
        "best_model.fit(X_train, y_train, epochs=100, validation_data=(X_test, y_test))\n"
      ],
      "metadata": {
        "id": "4EULEDtvhBeV"
      },
      "execution_count": null,
      "outputs": []
    },
    {
      "cell_type": "code",
      "source": [
        "# chạy thử mô hình với tập kiểm tra\n",
        "best_model.evaluate(X_test, y_test)\n",
        "\n",
        "# Đánh giá hiệu suất mô hình trên tập kiểm tra\n",
        "print(\"Mean Squared Error:\", best_model.metrics[1].result().numpy())\n",
        "print(\"Root Mean Squared Error:\", best_model.metrics[2].result().numpy())\n",
        "print(\"Mean Absolute Error:\", best_model.metrics[3].result().numpy())\n",
        "print(\"R-squared:\", best_model.metrics[4].result().numpy())"
      ],
      "metadata": {
        "id": "lIG2aS5ohfAS"
      },
      "execution_count": null,
      "outputs": []
    },
    {
      "cell_type": "markdown",
      "source": [
        "### Kết luận\n",
        "\n",
        "sau khi sử dụng Hyperparameter Turning và ta được kết quả:\n",
        "- Mean Squared Error: **1471716000.0**   so với lúc đầu 8465224000.0\n",
        "- Root Mean Squared Error: **1471716000.0**  so với lúc đầu  8465224000.0\n",
        "- Mean Absolute Error: **38362.95**  so với lúc đầu  92006.66\n",
        "- R-squared: **26485.656**  so với lúc đầu  79019.4\n",
        "\n",
        "sai số đã cải tiến dáng kể so với model lúc đầu"
      ],
      "metadata": {
        "id": "OwtnoZ3RiH4a"
      }
    },
    {
      "cell_type": "markdown",
      "source": [
        "<a name='5'></a>\n",
        "## 5 - Cải tiến Hyperparameter Tuning\n",
        "- thay đổi giá trị max_trials=10"
      ],
      "metadata": {
        "id": "CFJdHkr_oHrg"
      }
    },
    {
      "cell_type": "code",
      "source": [
        "# Define tuner\n",
        "tuner = RandomSearch(\n",
        "    build_model,\n",
        "    objective='val_loss',\n",
        "    max_trials=10,\n",
        "    executions_per_trial=3,\n",
        "    directory='kaggle',\n",
        "    project_name='hoc_ml_mse11')\n",
        "\n",
        "# Fit tuner to data\n",
        "tuner.search(X_train, y_train,\n",
        "             epochs=10,\n",
        "             validation_data=(X_test, y_test))\n",
        "\n",
        "# Print best hyperparameters\n",
        "print(tuner.get_best_hyperparameters()[0].values)"
      ],
      "metadata": {
        "id": "aOj-2guCm5B0"
      },
      "execution_count": null,
      "outputs": []
    },
    {
      "cell_type": "code",
      "source": [
        "# lấy model tốt nhất\n",
        "best_model_2 = tuner.get_best_models(num_models=1)[0]\n",
        "\n",
        "# chạy với tập train\n",
        "best_model_2.fit(X_train, y_train, epochs=100, validation_data=(X_test, y_test))\n",
        "\n",
        "# chạy thử mô hình với tập kiểm tra\n",
        "best_model_2.evaluate(X_test, y_test)\n",
        "\n",
        "# Đánh giá hiệu suất mô hình trên tập kiểm tra\n",
        "print(\"Mean Squared Error:\", best_model.metrics[1].result().numpy())\n",
        "print(\"Root Mean Squared Error:\", best_model.metrics[2].result().numpy())\n",
        "print(\"Mean Absolute Error:\", best_model.metrics[3].result().numpy())\n",
        "print(\"R-squared:\", best_model.metrics[4].result().numpy())"
      ],
      "metadata": {
        "id": "-ehMKz7enkZC"
      },
      "execution_count": null,
      "outputs": []
    },
    {
      "cell_type": "markdown",
      "source": [
        "### Kết luận\n",
        "\n",
        "Sau khi sử dụng thay đổi giá trị max_trials và ta được kết quả:\n",
        "- Mean Squared Error: **1372885000.0** so với trước đó **1471716000.0**\n",
        "- Root Mean Squared Error:  **1372885000.0** so với trước đó  **1471716000.0** \n",
        "- Mean Absolute Error: **37052.46** so với trước đó **38362.95** \n",
        "- R-squared: **24789.904** so với trước đó  **26485.656**\n",
        "Các chỉ số đã có sự cải thiện hơn so với trước đó.\n",
        "\n"
      ],
      "metadata": {
        "id": "kr55q8mAokbq"
      }
    },
    {
      "cell_type": "markdown",
      "source": [
        "<a name='5'></a>\n",
        "## 6 - Cải tiến bằng cách dùng Hyperband"
      ],
      "metadata": {
        "id": "Kf4zSo6brZNw"
      }
    },
    {
      "cell_type": "code",
      "source": [
        "from kerastuner import Hyperband\n",
        "# Initialize the Hyperband tuner\n",
        "tuner = Hyperband(build_model,\n",
        "                     objective='val_mean_squared_error',\n",
        "                     max_epochs=10,\n",
        "                     factor=3,\n",
        "                     directory='kaggle',\n",
        "                     project_name='hoc_ml_mse11')\n",
        "\n",
        "# Perform the hyperparameter search\n",
        "tuner.search(X_train, y_train, epochs=10, validation_split=0.2)\n",
        "\n",
        "# Get the best model\n",
        "best_model_3 = tuner.get_best_models(num_models=1)[0]"
      ],
      "metadata": {
        "id": "yiUNjWKHrjer"
      },
      "execution_count": null,
      "outputs": []
    },
    {
      "cell_type": "code",
      "source": [
        "# chạy thử mô hình với tập kiểm tra\n",
        "best_model_3.evaluate(X_test, y_test)\n",
        "\n",
        "# Đánh giá hiệu suất mô hình trên tập kiểm tra\n",
        "print(\"Mean Squared Error:\", best_model.metrics[1].result().numpy())\n",
        "print(\"Root Mean Squared Error:\", best_model.metrics[2].result().numpy())\n",
        "print(\"Mean Absolute Error:\", best_model.metrics[3].result().numpy())\n",
        "print(\"R-squared:\", best_model.metrics[4].result().numpy())"
      ],
      "metadata": {
        "id": "kuK44hJRwc6Q"
      },
      "execution_count": null,
      "outputs": []
    },
    {
      "cell_type": "markdown",
      "source": [
        "### Kết luận\n",
        "\n",
        "Sau khi sử dụng Hyperband để cải tiến mô hình:\n",
        "- Mean Squared Error: 1575010800.0 lớn hơn **1372885000.0**\n",
        "- Root Mean Squared Error: 1575010800.0 lớn hơn **1372885000.0** \n",
        "- Mean Absolute Error: 39686.406 lớn hơn **37052.46**\n",
        "- R-squared: 27720.771 lớn hơn **24789.904**\n",
        "Các chỉ số lơn hơn so với mô hình trước đó.\n"
      ],
      "metadata": {
        "id": "F1H8IrXyw3zk"
      }
    }
  ]
}